{
 "cells": [
  {
   "cell_type": "code",
   "execution_count": 1,
   "metadata": {
    "collapsed": false
   },
   "outputs": [],
   "source": [
    "require 'nn'\n",
    "require 'audio'\n",
    "require 'image'"
   ]
  },
  {
   "cell_type": "code",
   "execution_count": 2,
   "metadata": {
    "collapsed": false
   },
   "outputs": [],
   "source": [
    "d,fs = audio.load('../Data/country/Allison Lawson 1 - Cole Swindell - Shes Ready.mp3')"
   ]
  },
  {
   "cell_type": "code",
   "execution_count": 3,
   "metadata": {
    "collapsed": false
   },
   "outputs": [
    {
     "data": {
      "text/plain": [
       " 8378496\n",
       "       2\n",
       "[torch.LongStorage of size 2]\n",
       "\n"
      ]
     },
     "execution_count": 3,
     "metadata": {},
     "output_type": "execute_result"
    }
   ],
   "source": [
    "d:size()"
   ]
  },
  {
   "cell_type": "code",
   "execution_count": 4,
   "metadata": {
    "collapsed": false
   },
   "outputs": [
    {
     "data": {
      "text/plain": [
       "44100\t\n"
      ]
     },
     "execution_count": 4,
     "metadata": {},
     "output_type": "execute_result"
    }
   ],
   "source": [
    "fs"
   ]
  },
  {
   "cell_type": "code",
   "execution_count": 5,
   "metadata": {
    "collapsed": false
   },
   "outputs": [],
   "source": [
    "spect = audio.spectrogram(d[{{},1}], 50, 'rect', 128)"
   ]
  },
  {
   "cell_type": "code",
   "execution_count": 6,
   "metadata": {
    "collapsed": false
   },
   "outputs": [
    {
     "data": {
      "text/plain": [
       "    26\n",
       " 65457\n",
       "[torch.LongStorage of size 2]\n",
       "\n"
      ]
     },
     "execution_count": 6,
     "metadata": {},
     "output_type": "execute_result"
    }
   ],
   "source": [
    "spect:size()"
   ]
  },
  {
   "cell_type": "code",
   "execution_count": 7,
   "metadata": {
    "collapsed": false
   },
   "outputs": [
    {
     "ename": "/Users/amdegroot/torch/install/share/lua/5.1/image/init.lua:1540: module 'qt' not found:\n\tno field package.preload['qt']\n\tno file '/Users/amdegroot/.luarocks/share/lua/5.1/qt.lua'\n\tno file '/Users/amdegroot/.luarocks/share/lua/5.1/qt/init.lua'\n\tno file '/Users/amdegroot/torch/install/share/lua/5.1/qt.lua'\n\tno file '/Users/amdegroot/torch/install/share/lua/5.1/qt/init.lua'\n\tno file './qt.lua'\n\tno file '/Users/amdegroot/torch/install/share/luajit-2.1.0-beta1/qt.lua'\n\tno file '/usr/local/share/lua/5.1/qt.lua'\n\tno file '/usr/local/share/lua/5.1/qt/init.lua'\n\tno file '/Users/amdegroot/torch/install/lib/qt.dylib'\n\tno file '/Users/amdegroot/.luarocks/lib/lua/5.1/qt.so'\n\tno file '/Users/amdegroot/torch/install/lib/lua/5.1/qt.so'\n\tno file '/Users/amdegroot/torch/install/lib/qt.dylib'\n\tno file './qt.so'\n\tno file '/usr/local/lib/lua/5.1/qt.so'\n\tno file '/usr/local/lib/lua/5.1/loadall.so'\nstack traceback:\n\t[C]: in function 'require'\n\t/Users/amdegroot/torch/install/share/lua/5.1/image/init.lua:1540: in function 'f'\n\t[string \"local f = function() return image.display(spe...\"]:1: in main chunk\n\t[C]: in function 'xpcall'\n\t...rs/amdegroot/torch/install/share/lua/5.1/itorch/main.lua:209: in function <...rs/amdegroot/torch/install/share/lua/5.1/itorch/main.lua:173>\n\t...rs/amdegroot/torch/install/share/lua/5.1/lzmq/poller.lua:75: in function 'poll'\n\t...amdegroot/torch/install/share/lua/5.1/lzmq/impl/loop.lua:307: in function 'poll'\n\t...amdegroot/torch/install/share/lua/5.1/lzmq/impl/loop.lua:325: in function 'sleep_ex'\n\t...amdegroot/torch/install/share/lua/5.1/lzmq/impl/loop.lua:370: in function 'start'\n\t...rs/amdegroot/torch/install/share/lua/5.1/itorch/main.lua:381: in main chunk\n\t[C]: in function 'require'\n\t(command line):1: in main chunk\n\t[C]: at 0x0109f0b1b0",
     "evalue": "",
     "output_type": "error",
     "traceback": [
      "/Users/amdegroot/torch/install/share/lua/5.1/image/init.lua:1540: module 'qt' not found:\n\tno field package.preload['qt']\n\tno file '/Users/amdegroot/.luarocks/share/lua/5.1/qt.lua'\n\tno file '/Users/amdegroot/.luarocks/share/lua/5.1/qt/init.lua'\n\tno file '/Users/amdegroot/torch/install/share/lua/5.1/qt.lua'\n\tno file '/Users/amdegroot/torch/install/share/lua/5.1/qt/init.lua'\n\tno file './qt.lua'\n\tno file '/Users/amdegroot/torch/install/share/luajit-2.1.0-beta1/qt.lua'\n\tno file '/usr/local/share/lua/5.1/qt.lua'\n\tno file '/usr/local/share/lua/5.1/qt/init.lua'\n\tno file '/Users/amdegroot/torch/install/lib/qt.dylib'\n\tno file '/Users/amdegroot/.luarocks/lib/lua/5.1/qt.so'\n\tno file '/Users/amdegroot/torch/install/lib/lua/5.1/qt.so'\n\tno file '/Users/amdegroot/torch/install/lib/qt.dylib'\n\tno file './qt.so'\n\tno file '/usr/local/lib/lua/5.1/qt.so'\n\tno file '/usr/local/lib/lua/5.1/loadall.so'\nstack traceback:\n\t[C]: in function 'require'\n\t/Users/amdegroot/torch/install/share/lua/5.1/image/init.lua:1540: in function 'f'\n\t[string \"local f = function() return image.display(spe...\"]:1: in main chunk\n\t[C]: in function 'xpcall'\n\t...rs/amdegroot/torch/install/share/lua/5.1/itorch/main.lua:209: in function <...rs/amdegroot/torch/install/share/lua/5.1/itorch/main.lua:173>\n\t...rs/amdegroot/torch/install/share/lua/5.1/lzmq/poller.lua:75: in function 'poll'\n\t...amdegroot/torch/install/share/lua/5.1/lzmq/impl/loop.lua:307: in function 'poll'\n\t...amdegroot/torch/install/share/lua/5.1/lzmq/impl/loop.lua:325: in function 'sleep_ex'\n\t...amdegroot/torch/install/share/lua/5.1/lzmq/impl/loop.lua:370: in function 'start'\n\t...rs/amdegroot/torch/install/share/lua/5.1/itorch/main.lua:381: in main chunk\n\t[C]: in function 'require'\n\t(command line):1: in main chunk\n\t[C]: at 0x0109f0b1b0"
     ]
    }
   ],
   "source": [
    "image.display(spect)"
   ]
  },
  {
   "cell_type": "code",
   "execution_count": null,
   "metadata": {
    "collapsed": true
   },
   "outputs": [],
   "source": []
  },
  {
   "cell_type": "code",
   "execution_count": null,
   "metadata": {
    "collapsed": true
   },
   "outputs": [],
   "source": []
  },
  {
   "cell_type": "code",
   "execution_count": null,
   "metadata": {
    "collapsed": true
   },
   "outputs": [],
   "source": []
  }
 ],
 "metadata": {
  "kernelspec": {
   "display_name": "iTorch",
   "language": "lua",
   "name": "itorch"
  },
  "language_info": {
   "name": "lua",
   "version": "5.1"
  }
 },
 "nbformat": 4,
 "nbformat_minor": 2
}
